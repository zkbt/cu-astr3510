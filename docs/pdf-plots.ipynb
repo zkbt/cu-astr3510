{
 "cells": [
  {
   "cell_type": "code",
   "execution_count": null,
   "id": "d9d1918d",
   "metadata": {},
   "outputs": [],
   "source": [
    "from chromatic import *\n",
    "from scipy.stats import norm, uniform, poisson"
   ]
  },
  {
   "cell_type": "code",
   "execution_count": null,
   "id": "558ef16c",
   "metadata": {},
   "outputs": [],
   "source": [
    "N=5\n",
    "mu = np.random.uniform(-2, 2, N)\n",
    "sigma = np.random.uniform(0.1, 1, N)\n",
    "        \n",
    "def cartoon_pdf(x):\n",
    "    p = np.zeros_like(x)\n",
    "    for i in range(N):\n",
    "        p += norm(loc=mu[i], scale=sigma[i]).pdf(x)/N\n",
    "    return p\n",
    "        \n",
    "for version in ['f(x)', 'f(x)dx', 'a-b', 'infty']:\n",
    "    x = np.linspace(-4,4,1000)\n",
    "    plt.figure(figsize=(6, 2), dpi=300)\n",
    "    plt.plot(x, cartoon_pdf(x), linewidth=5, color='black', clip_on=False)\n",
    "    plt.ylim(0, None)\n",
    "    plt.xlim(-4,4)\n",
    "    plt.xlabel('x')\n",
    "    plt.yticks([])\n",
    "    plt.xticks([])\n",
    "    ax = plt.gca()\n",
    "    for k in ['top', 'right']:\n",
    "        ax.spines[k].set_visible(False)\n",
    "    plt.ylabel('$f(x)$')\n",
    "    \n",
    "\n",
    "    if version == 'infty':\n",
    "        plt.fill_between(x, cartoon_pdf(x), color='silver', zorder=-1)\n",
    "    if version == 'a-b':\n",
    "        x = np.linspace(-1.5, 0.5)\n",
    "        plt.fill_between(x, cartoon_pdf(x), color='silver', zorder=-1)\n",
    "    if 'f(x)' in version:\n",
    "        x = np.linspace(1.99, 2.01)\n",
    "        plt.fill_between(x, cartoon_pdf(x), color='black')\n",
    "    if version == 'f(x)dx':\n",
    "        x = np.linspace(1.9, 2.1)\n",
    "        plt.fill_between(x, cartoon_pdf(x), color='silver', zorder=-1)\n",
    "        \n",
    "\n"
   ]
  },
  {
   "cell_type": "code",
   "execution_count": null,
   "id": "d6e14654",
   "metadata": {},
   "outputs": [],
   "source": [
    "mu = 0\n",
    "sigma = 1\n",
    "x = np.linspace(-4,4,1000)\n",
    "plt.figure(figsize=(8,2.5), dpi=300)\n",
    "plt.plot(x, norm(loc=mu, scale=sigma).pdf(x), linewidth=5, color='black', clip_on=False)\n",
    "plt.ylim(0, None)\n",
    "plt.xlim(-4,4)\n",
    "plt.xticks([-1, 0, 1], [r'$\\mu - \\sigma$', r'$\\mu$', r'$\\mu + \\sigma$'])\n",
    "\n",
    "plt.yticks([])\n",
    "ax = plt.gca()\n",
    "for k in ['top', 'right']:\n",
    "    ax.spines[k].set_visible(False)\n",
    "\n",
    "plt.ylabel('Probability Density Function');"
   ]
  },
  {
   "cell_type": "code",
   "execution_count": null,
   "id": "63b372ae",
   "metadata": {},
   "outputs": [],
   "source": [
    "a, b = [-2,2]\n",
    "x = np.linspace(-4,4,1000)\n",
    "plt.figure(figsize=(8,2.5), dpi=300)\n",
    "plt.plot(x, uniform(loc=a, scale=(b-a)).pdf(x), linewidth=5, color='black', clip_on=False)\n",
    "plt.ylim(0, None)\n",
    "plt.xlim(-4,4)\n",
    "plt.xticks([-2, 2], [r'$x_{\\rm lower}$', r'$x_{\\rm upper}$'])\n",
    "\n",
    "plt.yticks([])\n",
    "ax = plt.gca()\n",
    "for k in ['top', 'right']:\n",
    "    ax.spines[k].set_visible(False)\n",
    "\n",
    "plt.ylabel('Probability Density Function');"
   ]
  },
  {
   "cell_type": "code",
   "execution_count": null,
   "id": "b7f2b73f",
   "metadata": {},
   "outputs": [],
   "source": [
    "x = np.arange(0, 31)\n",
    "for N in [1, 2, 4, 8, 16]:\n",
    "    plt.figure(figsize=(8,2.5), dpi=300)\n",
    "    plt.plot(x, poisson(mu=N).pmf(x), linewidth=5, color='black', clip_on=False, drawstyle='steps-mid')\n",
    "    plt.ylim(0, None)\n",
    "    plt.xlim(0, 30)\n",
    "    plt.yticks([])\n",
    "    ax = plt.gca()\n",
    "    for k in ['top', 'right']:\n",
    "        ax.spines[k].set_visible(False)\n",
    "\n",
    "    plt.ylabel('Probability Density Function');"
   ]
  },
  {
   "cell_type": "code",
   "execution_count": null,
   "id": "06686531",
   "metadata": {},
   "outputs": [],
   "source": [
    "poisson?"
   ]
  },
  {
   "cell_type": "code",
   "execution_count": null,
   "id": "b934dfd7",
   "metadata": {},
   "outputs": [],
   "source": [
    "plt.plot?"
   ]
  },
  {
   "cell_type": "code",
   "execution_count": null,
   "id": "cbb6b4b5",
   "metadata": {},
   "outputs": [],
   "source": [
    "norm(loc=0, scale=1).sf(3)"
   ]
  },
  {
   "cell_type": "code",
   "execution_count": null,
   "id": "75df8b37",
   "metadata": {},
   "outputs": [],
   "source": [
    "x = np.random.normal(0, 1, 1000000)\n",
    "plt.hist(x);"
   ]
  },
  {
   "cell_type": "code",
   "execution_count": null,
   "id": "1cd5f5fa",
   "metadata": {},
   "outputs": [],
   "source": []
  }
 ],
 "metadata": {
  "kernelspec": {
   "display_name": "Python 3 (ipykernel)",
   "language": "python",
   "name": "python3"
  },
  "language_info": {
   "codemirror_mode": {
    "name": "ipython",
    "version": 3
   },
   "file_extension": ".py",
   "mimetype": "text/x-python",
   "name": "python",
   "nbconvert_exporter": "python",
   "pygments_lexer": "ipython3",
   "version": "3.10.4"
  }
 },
 "nbformat": 4,
 "nbformat_minor": 5
}
