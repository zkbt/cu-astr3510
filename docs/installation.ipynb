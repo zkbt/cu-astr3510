{
 "cells": [
  {
   "cell_type": "markdown",
   "id": "34ce5b6e",
   "metadata": {},
   "source": [
    "# Installation\n",
    "\n",
    "For installing this code we assume you have a Python environment set up, into which you can install packages via `pip`. If so, please continue to one of the installation options below.\n",
    "\n",
    "If this isn't the case, we recommend installing the [Anaconda Python distribution](https://www.anaconda.com/products/distribution), and using `conda` to manage the `python` environment(s) you have installed on your computer. One tutorial (of many) about how to get started with Python and creating `conda` environments is available [here](https://github.com/ers-transit/hackathon-2021-day0).\n",
    "\n",
    "## Basic Installation\n",
    "\n",
    "If you want to install into your current environment, the basic installation should be pretty simple. From the Terminal or Anaconda Prompt, please run\n",
    "```\n",
    "pip install cu-astr3510\n",
    "```\n",
    "and it should install everything, along with all the necessary dependencies. \n",
    "\n",
    "If you previously installed this package and need to grab a newer version, run\n",
    "```\n",
    "pip install --upgrade cu-astr3510\n",
    "```\n",
    "to download any officially released updates.\n",
    "\n",
    "## Basic Installation in New `conda` Environment\n",
    "\n",
    "If you are at all worried about the installation messing up other existing packages on your computer or if you're having trouble getting a tricky dependency to install, please consider installing into a new `conda` environment. Environments are independent of each other, so what you install into one shouldn't affect others.\n",
    "\n",
    "From the Terminal or Anaconda Prompt, please run\n",
    "```\n",
    "conda create -n my-neato-astr3510-environment python=3.10\n",
    "```\n",
    "to create a new, empty environment centered on a recent-ish version of `python`. You may want to choose a shorter name for your neato environment, as it's something you'll need to type every time you want to use this environment. Run\n",
    "```\n",
    "conda activate my-neato-astr3510-environment\n",
    "```\n",
    "to enter than environment. You can check that you're in it by running \n",
    "```\n",
    "conda env list\n",
    "```\n",
    "and looking for a little star next to the environment name. Now, from within this environment, run\n",
    "```\n",
    "pip install --upgrade cu-astr3510\n",
    "```\n",
    "to install `astr3510` and all its dependencies (or follow the Developer Installation instructions immediately below), into this specific environment. \n",
    "\n",
    "One thing to watch out for is that if you haven't installed whatever tools you use to work with `python` (such as `jupyter` or `spyder`) into this environment, you might not be able to open them or you might open them from your base environment without access to `astr3510`. To fix that, run\n",
    "```\n",
    "conda install jupyter spyder\n",
    "```\n",
    "from inside your environment. From now on, whenever you want to use this environment, activate it with\n",
    "```\n",
    "conda activate my-neato-astr3510-environment\n",
    "```\n",
    "and then open your `python` interface from within that environment, as with any one of these\n",
    "```\n",
    "jupyter notebook \n",
    "jupyter lab\n",
    "spyder \n",
    "```\n",
    "Good luck!\n",
    "\n",
    "## Developer Installation\n",
    "\n",
    "If you want to install this code while being able to edit and develop it, you can clone its [GitHub repository](https://github.com/zkbt/cu-astr3510.git) onto your own computer. This allows you to edit it for your own sake and/or to draft changes that can be contributed to the public package (see [Contributing 🌈 Code with GitHub](../contributing)).\n",
    "\n",
    "To install directly as an editable package on your local computer, run\n",
    "```\n",
    "git clone https://github.com/zkbt/cu-astr3510.git\n",
    "cd cu-astr3510\n",
    "pip install -e '.[develop]'\n",
    "```\n",
    "The `-e .` will point your environment's `astr3510` package to your local folder, meaning that any changes you make in the repository will be reflected in what Python sees when it tries to `import astr3510`. Including the `[develop]` after the `.` will install both the dependencies for the package itself and the extra dependencies required for development (= testing and documentation).\n",
    "\n",
    "## Did it work?\n",
    "You can quickly test whether your installation worked, and what version you have, by running the Python code"
   ]
  },
  {
   "cell_type": "code",
   "execution_count": null,
   "id": "eef92bc4",
   "metadata": {},
   "outputs": [],
   "source": [
    "import astr3510\n",
    "\n",
    "astr3510.version()"
   ]
  },
  {
   "cell_type": "markdown",
   "id": "8cb7abde",
   "metadata": {},
   "source": [
    "Happy coding!🧑‍💻🌈🎨🤖"
   ]
  }
 ],
 "metadata": {
  "kernelspec": {
   "display_name": "Python 3 (ipykernel)",
   "language": "python",
   "name": "python3"
  },
  "language_info": {
   "codemirror_mode": {
    "name": "ipython",
    "version": 3
   },
   "file_extension": ".py",
   "mimetype": "text/x-python",
   "name": "python",
   "nbconvert_exporter": "python",
   "pygments_lexer": "ipython3",
   "version": "3.10.8"
  }
 },
 "nbformat": 4,
 "nbformat_minor": 5
}
