{
 "cells": [
  {
   "cell_type": "markdown",
   "metadata": {},
   "source": [
    "# l💡🔭🤿 Cartoon Point-Spread Functions\n",
    "\n",
    "The point-spread function of a diffraction-limited telescope is (something like) the Fourier Transform of its aperture. That's a big and complicated statement, but here we have a few tools to help play around with how differently shaped telescope apertures translate into different images they might produce. "
   ]
  },
  {
   "cell_type": "code",
   "execution_count": 1,
   "metadata": {},
   "outputs": [],
   "source": [
    "from astr3510 import psfs\n",
    "import astropy.units as u "
   ]
  },
  {
   "cell_type": "markdown",
   "metadata": {},
   "source": [
    "Let's simulate the PSF of JWST, using a (very approximate) image of what its aperture looks like. "
   ]
  },
  {
   "cell_type": "code",
   "execution_count": null,
   "metadata": {},
   "outputs": [],
   "source": [
    "a = psfs.JWST(wavelength=5*u.micron)\n",
    "a.imshow_aperture_and_psf()"
   ]
  },
  {
   "cell_type": "markdown",
   "metadata": {},
   "source": [
    "The PSF looks very different in linear and logarithmic scalings, so it can be helpful to view it in both."
   ]
  },
  {
   "cell_type": "code",
   "execution_count": null,
   "metadata": {},
   "outputs": [],
   "source": [
    "a.display_psf()"
   ]
  },
  {
   "cell_type": "markdown",
   "metadata": {},
   "source": [
    "Let's make a custom telescope, and see what its point spread function looks like."
   ]
  },
  {
   "cell_type": "code",
   "execution_count": null,
   "metadata": {},
   "outputs": [],
   "source": [
    "a = psfs.ObscuredCircleAperture(diameter=8*u.m, obscuration_diameter=4*u.m, spiders=5, spider_width=10*u.cm)\n",
    "a.imshow_aperture_and_psf()"
   ]
  },
  {
   "cell_type": "markdown",
   "metadata": {},
   "source": [
    "Let's see how the same telescope design gives different PSFs at different wavelengths. (Look carefully at the axis labels!)"
   ]
  },
  {
   "cell_type": "code",
   "execution_count": null,
   "metadata": {},
   "outputs": [],
   "source": [
    "a = psfs.CircleAperture(diameter=1*u.m, wavelength=0.5*u.micron)\n",
    "a.imshow_aperture_and_psf(zoom=10)"
   ]
  },
  {
   "cell_type": "code",
   "execution_count": null,
   "metadata": {},
   "outputs": [],
   "source": [
    "a = psfs.CircleAperture(diameter=1*u.m, wavelength=50*u.micron)\n",
    "a.imshow_aperture_and_psf(zoom=10)"
   ]
  },
  {
   "cell_type": "markdown",
   "metadata": {},
   "source": [
    "Let's see what a PSF looks like with a Bahtinov mask in front of the telescope's aperture."
   ]
  },
  {
   "cell_type": "code",
   "execution_count": null,
   "metadata": {},
   "outputs": [],
   "source": [
    "a = psfs.BahtinovAperture(diameter=0.5*u.m, wavelength=0.7*u.micron)\n",
    "a.imshow_aperture_and_psf()"
   ]
  },
  {
   "cell_type": "markdown",
   "metadata": {},
   "source": [
    "Let's make our own custom telescope image."
   ]
  },
  {
   "cell_type": "code",
   "execution_count": null,
   "metadata": {},
   "outputs": [],
   "source": [
    "import matplotlib.pyplot as plt \n",
    "i = plt.imread('hedgehog.jpg').sum(axis=-1)\n",
    "aperture = i < 100\n",
    "plt.imshow(aperture)\n",
    "plt.colorbar(orientation='horizontal')\n",
    "\n"
   ]
  },
  {
   "cell_type": "code",
   "execution_count": null,
   "metadata": {},
   "outputs": [],
   "source": [
    "a = psfs.BitmapAperture(filename='hedgehog.jpg')\n",
    "a.imshow_aperture_and_psf()\n"
   ]
  },
  {
   "cell_type": "code",
   "execution_count": null,
   "metadata": {},
   "outputs": [],
   "source": [
    "a = psfs.BitmapAperture()\n",
    "a.make_aperture('hedgehog.jpg')\n",
    "a.imshow_aperture_and_psf(zoom=10)"
   ]
  }
 ],
 "metadata": {
  "kernelspec": {
   "display_name": "2024",
   "language": "python",
   "name": "python3"
  },
  "language_info": {
   "codemirror_mode": {
    "name": "ipython",
    "version": 3
   },
   "file_extension": ".py",
   "mimetype": "text/x-python",
   "name": "python",
   "nbconvert_exporter": "python",
   "pygments_lexer": "ipython3",
   "version": "3.12.3"
  }
 },
 "nbformat": 4,
 "nbformat_minor": 2
}
