{
 "cells": [
  {
   "cell_type": "markdown",
   "id": "00eccf89",
   "metadata": {},
   "source": [
    "# 🧮✏️📈 Plotting 1D Functions\n",
    "\n",
    "This page demonstrates how to plot 1D arrays in Python, which we might want to do either if we have some discrete data points that we'd like to visualize or if we want to draw smooth curve for a mathematical function. "
   ]
  },
  {
   "cell_type": "code",
   "execution_count": null,
   "id": "b91c4595",
   "metadata": {},
   "outputs": [],
   "source": [
    "import matplotlib.pyplot as plt\n",
    "import numpy as np"
   ]
  },
  {
   "cell_type": "markdown",
   "id": "4146d865",
   "metadata": {},
   "source": [
    "### How do we plot one array against another? \n",
    "Let's construct two 1D arrays, and plot one as `x` and one as `y`, using a few different plotting styles. We'll start by constructing two simple arrays. "
   ]
  },
  {
   "cell_type": "code",
   "execution_count": null,
   "id": "764abb0a",
   "metadata": {},
   "outputs": [],
   "source": [
    "x = np.array([1,1,2,3,5,8])\n",
    "y = np.array([3,1,4,1,5,9])"
   ]
  },
  {
   "cell_type": "markdown",
   "id": "c2099115",
   "metadata": {},
   "source": [
    "Next, we'll plot them. The `plt.plot` function will by default draw lines without points, and the `plt.scatter` function will draw points without lines."
   ]
  },
  {
   "cell_type": "code",
   "execution_count": null,
   "id": "9b53aa74",
   "metadata": {},
   "outputs": [],
   "source": [
    "plt.plot(x, y);"
   ]
  },
  {
   "cell_type": "code",
   "execution_count": null,
   "id": "6e9b6435",
   "metadata": {},
   "outputs": [],
   "source": [
    "plt.scatter(x, y);"
   ]
  },
  {
   "cell_type": "markdown",
   "id": "c8c0a338",
   "metadata": {},
   "source": [
    "Both tools accept keyword arguments to customize the appearance of the plotted data. Here are a few tiny examples; notice the keyword names are different between `plt.plot` and `plt.scatter`. "
   ]
  },
  {
   "cell_type": "code",
   "execution_count": null,
   "id": "59b46c38",
   "metadata": {},
   "outputs": [],
   "source": [
    "plt.plot(x, y, linewidth=3, color='orchid', marker='s', markersize=10)"
   ]
  },
  {
   "cell_type": "code",
   "execution_count": null,
   "id": "47ab55b5",
   "metadata": {},
   "outputs": [],
   "source": [
    "plt.scatter(x, y, c='orchid', marker='s', s=100);"
   ]
  },
  {
   "cell_type": "markdown",
   "id": "081186e6",
   "metadata": {},
   "source": [
    "One snazzy feature of `plt.scatter` is that you can change the color or size of the points based on arrays, allowing you to express additional dimensions on the same plot. The symbol areas will scale with the numbers in `s=`, and numbers in `c=` will be translated to color via a colormap."
   ]
  },
  {
   "cell_type": "code",
   "execution_count": null,
   "id": "f24568e0",
   "metadata": {},
   "outputs": [],
   "source": [
    "plt.scatter(x, y, s=100*x**2, c=x+y, cmap='cividis');"
   ]
  },
  {
   "cell_type": "markdown",
   "id": "35bc2466",
   "metadata": {},
   "source": [
    "### How do we plot smooth curves of mathematical functions? \n",
    "\n",
    "We can use the same tools to plot smooth mathematical functions, but we have to create the grid of values on which it will be evaluated ourselves. Three tools are commonly very useful for creating these grids. \n",
    "\n",
    "`np.arange(start, stop, step)` will create an array that goes linearly from `start` up to (but not including) `stop` in steps of `step`. It's useful if exactly specifying the step size is what matters most to you."
   ]
  },
  {
   "cell_type": "code",
   "execution_count": null,
   "id": "76d736cb",
   "metadata": {},
   "outputs": [],
   "source": [
    "np.arange(5, 7, 0.2)"
   ]
  },
  {
   "cell_type": "markdown",
   "id": "0975815a",
   "metadata": {},
   "source": [
    "`np.linspace(start, stop, num)` will create an array that goes linearly from `start` up to (and including) `stop` in `num` total steps. It's useful if the total number of elements in your array is what matters most to you."
   ]
  },
  {
   "cell_type": "code",
   "execution_count": null,
   "id": "01fffe12",
   "metadata": {},
   "outputs": [],
   "source": [
    "np.linspace(2, 4, 6)"
   ]
  },
  {
   "cell_type": "markdown",
   "id": "6ed74f26",
   "metadata": {},
   "source": [
    "`np.logspace(start, stop, num)` will create an array that goes logarithmically from `10**start` up to (and including) `10**stop` in `num` total steps. It's useful if you're making a plot with logarithmic axes but still want the spacing to appear uniform."
   ]
  },
  {
   "cell_type": "code",
   "execution_count": null,
   "id": "a6b4ba2c",
   "metadata": {},
   "outputs": [],
   "source": [
    "np.logspace(0, 2, 5)"
   ]
  },
  {
   "cell_type": "markdown",
   "id": "68791cc5",
   "metadata": {},
   "source": [
    "To plot a function, we specify the array using one of those tools and do whatever calculation we want. "
   ]
  },
  {
   "cell_type": "code",
   "execution_count": null,
   "id": "9b2cedb4",
   "metadata": {},
   "outputs": [],
   "source": [
    "theta = np.linspace(-5*np.pi, 5*np.pi, 1000)\n",
    "y = np.sin(theta)/(10 + theta**2)"
   ]
  },
  {
   "cell_type": "markdown",
   "id": "57f733e8",
   "metadata": {},
   "source": [
    "If your calculation is more complicated than just a simple function, it might be useful to check that your dependent variable (`y`) has the same shape as your independent one (`theta`)."
   ]
  },
  {
   "cell_type": "code",
   "execution_count": null,
   "id": "f11cbbad",
   "metadata": {},
   "outputs": [],
   "source": [
    "theta.shape"
   ]
  },
  {
   "cell_type": "code",
   "execution_count": null,
   "id": "0b665a30",
   "metadata": {},
   "outputs": [],
   "source": [
    "y.shape"
   ]
  },
  {
   "cell_type": "markdown",
   "id": "6b7230b3",
   "metadata": {},
   "source": [
    "Then, we can just plot those two arrays against each other."
   ]
  },
  {
   "cell_type": "code",
   "execution_count": null,
   "id": "550325d8",
   "metadata": {},
   "outputs": [],
   "source": [
    "plt.plot(theta, y);"
   ]
  },
  {
   "cell_type": "markdown",
   "id": "533d78df",
   "metadata": {},
   "source": [
    "Of course, we should also add human-friendly aspects like labels, titles, and colorbars."
   ]
  },
  {
   "cell_type": "code",
   "execution_count": null,
   "id": "8a7f340a",
   "metadata": {},
   "outputs": [],
   "source": [
    "plt.scatter(theta, y, c=np.sin(theta), s=49*(1 + np.cos(theta)))\n",
    "plt.xlabel(r'$\\theta$ (radians)');\n",
    "plt.ylabel('y (some amazing unit)')\n",
    "plt.title('What a swell plot!')\n",
    "plt.colorbar();"
   ]
  },
  {
   "cell_type": "markdown",
   "id": "a31c42f3",
   "metadata": {},
   "source": [
    "### How can we learn more? \n",
    "\n",
    "These tools are enormously powerful, but you may need to do a little research to figure out what options to use and how to combine commands to achieve what effects you desire. To see what's available for each function, you can run `plt.plot?` or `plt.scatter?` (or type the function name and then hit `<tab>`) from within a jupyter cell. Or, for all the lovely details, peruse the online documentation for [`matplotlib.pyplot`](https://matplotlib.org/stable/api/pyplot_summary.html)."
   ]
  }
 ],
 "metadata": {
  "kernelspec": {
   "display_name": "Python 3 (ipykernel)",
   "language": "python",
   "name": "python3"
  },
  "language_info": {
   "codemirror_mode": {
    "name": "ipython",
    "version": 3
   },
   "file_extension": ".py",
   "mimetype": "text/x-python",
   "name": "python",
   "nbconvert_exporter": "python",
   "pygments_lexer": "ipython3",
   "version": "3.10.8"
  }
 },
 "nbformat": 4,
 "nbformat_minor": 5
}
