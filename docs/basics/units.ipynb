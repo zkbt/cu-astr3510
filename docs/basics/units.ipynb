{
 "cells": [
  {
   "cell_type": "markdown",
   "id": "2eca8897",
   "metadata": {},
   "source": [
    "# 📏🏋️☕️ Using Units\n",
    "This page shows how to use `astropy.units` and `astropy.constants` to attach physical units to numbers and arrays. When doing calculations, numbers are just numbers, and Python will happily calculate whatever we tell it to, whether that calculation makes conceptual sense or not. To help remedy this problem, the community-developed `astropy` package provides a snazzy toolkit for attaching units to quantities, handling conversions between units, and making our code complain if we try to do something nonesensical. "
   ]
  },
  {
   "cell_type": "markdown",
   "id": "2540fd16",
   "metadata": {},
   "source": [
    "### What's the problem? \n",
    "Let's say we have a calculation where we need to add two lengths together: $2\\rm{km} + 3\\rm{cm}$. In Python, if we're not paying attention, we might accidentally write this as..."
   ]
  },
  {
   "cell_type": "code",
   "execution_count": null,
   "id": "e51df22f",
   "metadata": {},
   "outputs": [],
   "source": [
    "a = 2\n",
    "b = 3\n",
    "a + b"
   ]
  },
  {
   "cell_type": "markdown",
   "id": "077b3a23",
   "metadata": {},
   "source": [
    "...and get an answer that doesn't make any sense whatsoever. We have so much else to think about when coding, so sometimes it'd be nice if we didn't have to expend too much mental energy on converting units between variables."
   ]
  },
  {
   "cell_type": "markdown",
   "id": "e01c8f5c",
   "metadata": {},
   "source": [
    "### How can we do unit calculations more carefully?\n",
    "\n",
    "The solution to this problem is to let variables have units associated with them and let Python do any necessary unit conversions for us. If we import some unit tools from `astropy` into the shortcut `u`, we can do this."
   ]
  },
  {
   "cell_type": "code",
   "execution_count": null,
   "id": "0201daf3",
   "metadata": {},
   "outputs": [],
   "source": [
    "import astropy.units as u"
   ]
  },
  {
   "cell_type": "code",
   "execution_count": null,
   "id": "7f07d167",
   "metadata": {},
   "outputs": [],
   "source": [
    "a = 2*u.km\n",
    "b = 3*u.cm\n",
    "a+b"
   ]
  },
  {
   "cell_type": "markdown",
   "id": "cff44cba",
   "metadata": {},
   "source": [
    "Hooray! The unit conversion happened automatically and gave us a sensible answer. The result has a unit attached to it so we know what it is, and we can convert it to any other distance unit we want!"
   ]
  },
  {
   "cell_type": "code",
   "execution_count": null,
   "id": "8204ffb5",
   "metadata": {},
   "outputs": [],
   "source": [
    "c = a+b "
   ]
  },
  {
   "cell_type": "code",
   "execution_count": null,
   "id": "a4aa86dc",
   "metadata": {},
   "outputs": [],
   "source": [
    "c.to('m')"
   ]
  },
  {
   "cell_type": "code",
   "execution_count": null,
   "id": "fd3458b9",
   "metadata": {},
   "outputs": [],
   "source": [
    "c.to('au')"
   ]
  },
  {
   "cell_type": "code",
   "execution_count": null,
   "id": "19f9df1f",
   "metadata": {},
   "outputs": [],
   "source": [
    "c.to('lightyear')"
   ]
  },
  {
   "cell_type": "markdown",
   "id": "48b0c6fe",
   "metadata": {},
   "source": [
    "Let's try a slightly more complicated calculation, figuring out the gravitational acceleration near Earth's surface."
   ]
  },
  {
   "cell_type": "code",
   "execution_count": null,
   "id": "bd614b2e",
   "metadata": {},
   "outputs": [],
   "source": [
    "# define the inputs to our calculation\n",
    "G = 6.7e-11*u.m**3/u.kg/u.s**2\n",
    "M = 6.0e27*u.g\n",
    "R = 6.4e3*u.km\n",
    "\n",
    "# do the calculation\n",
    "g = G*M/R**2"
   ]
  },
  {
   "cell_type": "code",
   "execution_count": null,
   "id": "6859dd91",
   "metadata": {},
   "outputs": [],
   "source": [
    "g"
   ]
  },
  {
   "cell_type": "markdown",
   "id": "c378b672",
   "metadata": {},
   "source": [
    "Ug! That seems to have the 9.8 part right, but the units are nasty. Let's ask Python to please convert that into more familiar and useful units."
   ]
  },
  {
   "cell_type": "code",
   "execution_count": null,
   "id": "de293266",
   "metadata": {},
   "outputs": [],
   "source": [
    "g.to('m/s**2')"
   ]
  },
  {
   "cell_type": "markdown",
   "id": "f9df7db4",
   "metadata": {},
   "source": [
    "If we don't know what the final units of our result may be, we can ask simply to \"decompose\" the units into something simpler. In this example, it gives us the same $\\rm{m/s^2}$ we were hoping for."
   ]
  },
  {
   "cell_type": "code",
   "execution_count": null,
   "id": "6d942856",
   "metadata": {},
   "outputs": [],
   "source": [
    "g.decompose()"
   ]
  },
  {
   "cell_type": "markdown",
   "id": "9764ff43",
   "metadata": {},
   "source": [
    "## `Discuss!` \n",
    "What happens if we try to do an impossible unit conversion using `astropy.units` (like in the code line below)? Is that behavior helpful or annoying? "
   ]
  },
  {
   "cell_type": "code",
   "execution_count": null,
   "id": "f4687258",
   "metadata": {},
   "outputs": [],
   "source": [
    "g.to('kg')"
   ]
  },
  {
   "cell_type": "markdown",
   "id": "11f58e15",
   "metadata": {},
   "source": [
    "### How do we include famous physical constants?\n",
    "We use a lot of physical constants in astronomy, many with very strange units. Fortunately, `astropy` provides a database of many common astronomical constants that might be useful for our calculations. Let's repeat the above, using the `astropy.constants` module."
   ]
  },
  {
   "cell_type": "code",
   "execution_count": null,
   "id": "e699f497",
   "metadata": {},
   "outputs": [],
   "source": [
    "import astropy.constants as con"
   ]
  },
  {
   "cell_type": "code",
   "execution_count": null,
   "id": "4867cc50",
   "metadata": {},
   "outputs": [],
   "source": [
    "# define the inputs to our calculation\n",
    "G = con.G\n",
    "M = 1*u.M_earth\n",
    "R = 1*u.R_earth\n",
    "\n",
    "# do the calculation\n",
    "g = G*M/R**2"
   ]
  },
  {
   "cell_type": "code",
   "execution_count": null,
   "id": "e451a41e",
   "metadata": {},
   "outputs": [],
   "source": [
    "g"
   ]
  },
  {
   "cell_type": "code",
   "execution_count": null,
   "id": "e30e4d23",
   "metadata": {},
   "outputs": [],
   "source": [
    "g.decompose()"
   ]
  },
  {
   "cell_type": "markdown",
   "id": "6f750766",
   "metadata": {},
   "source": [
    "That's more accurate and precise than our previous calculation, in which we provided each number just to 2 significant digits. In this particular example we used `G` from `constants` and Earth's mass and radius from `units`, but know that some quantities (like Earth's mass and radius) will appear in both `units` and `constants`."
   ]
  },
  {
   "cell_type": "code",
   "execution_count": null,
   "id": "1c283076",
   "metadata": {},
   "outputs": [],
   "source": [
    "print(con.G)"
   ]
  },
  {
   "cell_type": "markdown",
   "id": "ae2795a0",
   "metadata": {},
   "source": [
    "## `Discuss!`\n",
    "Can we construct arrays of numbers that have units associated with them (for example, a 1D array of times, a 2D array of ADU per pixel, or a 3D array of density in some volume)? In what contexts might that be useful?"
   ]
  },
  {
   "cell_type": "markdown",
   "id": "a3e7f742",
   "metadata": {},
   "source": [
    "### Ack! Can I get rid of the units?!?\n",
    "We might find we want to do a calculation with units and constants but then convert our result back to a simple number or array. Some `numpy`, `scipy`, or `plt` functions don't play nicely with units, so we might want to drop the units from a quantity as some point. We can use the `.to_value()` method to return just the value of the quantity, in whatever units we specify."
   ]
  },
  {
   "cell_type": "code",
   "execution_count": null,
   "id": "efa179b4",
   "metadata": {},
   "outputs": [],
   "source": [
    "g.to_value('m/s**2')"
   ]
  },
  {
   "cell_type": "code",
   "execution_count": null,
   "id": "a6ec8c98",
   "metadata": {},
   "outputs": [],
   "source": [
    "g.to_value(u.m/u.s**2)"
   ]
  },
  {
   "cell_type": "markdown",
   "id": "1a9ad289",
   "metadata": {},
   "source": [
    "We can call `.to_value()` without any arguments to return the value in its current unit, but be aware that current unit might be something confusing! For example, if we look at the undecomposed value for `g`, it will give us a value in strange units involved Earth radii and masses. "
   ]
  },
  {
   "cell_type": "code",
   "execution_count": null,
   "id": "096791db",
   "metadata": {},
   "outputs": [],
   "source": [
    "g.to_value()"
   ]
  },
  {
   "cell_type": "code",
   "execution_count": null,
   "id": "f68354f0",
   "metadata": {},
   "outputs": [],
   "source": [
    "g.decompose().to_value()"
   ]
  },
  {
   "cell_type": "markdown",
   "id": "0e5d937f",
   "metadata": {},
   "source": [
    "## How can you apply this yourself? \n",
    "\n",
    "Take what you've learned above and try out the following questions, using `astropy` units and/or constants in your calculations. Remember that in `jupyter` you can start typing a variable name and then hit `<tab>` to try to automatically complete the rest of its name.\n",
    "1. If we drive a car continuously at a speed of 100 $\\rm{km/hr}$ for 0.5 $\\rm{fortnights}$, how many $\\rm{lightseconds}$ have we traveled? \n",
    "1. Calculate the energy $E$ of a photon with a wavelength $\\lambda = 500 \\rm{nm}$, using the equation $E = h\\nu = hc/\\lambda$. Print your result in units of Joules, ergs, electron volts, and kilwowatt hours.\n",
    "\n",
    "The documentation for `astropy.units` and `astropy.constants` is extensive and helpful. You can do much more than the basics shown here; search for the documentation online to figure out what you need!"
   ]
  }
 ],
 "metadata": {
  "kernelspec": {
   "display_name": "Python 3 (ipykernel)",
   "language": "python",
   "name": "python3"
  },
  "language_info": {
   "codemirror_mode": {
    "name": "ipython",
    "version": 3
   },
   "file_extension": ".py",
   "mimetype": "text/x-python",
   "name": "python",
   "nbconvert_exporter": "python",
   "pygments_lexer": "ipython3",
   "version": "3.10.8"
  }
 },
 "nbformat": 4,
 "nbformat_minor": 5
}
