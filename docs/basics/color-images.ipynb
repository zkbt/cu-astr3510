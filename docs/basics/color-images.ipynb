{
 "cells": [
  {
   "cell_type": "markdown",
   "id": "dc1061fc",
   "metadata": {},
   "source": [
    "# 🎨🌈🏞 Crafting Color Images\n",
    "\n",
    "This page demonstrates how to load RGB color images into a three-dimensional array in Python, how to think about the numbers in that array, and how to construct a color image from three different two-dimensional images. Please work through these examples, discuss with your classmates or instructors, and try the activities on your own."
   ]
  },
  {
   "cell_type": "code",
   "execution_count": null,
   "id": "dc529003",
   "metadata": {},
   "outputs": [],
   "source": [
    "import matplotlib.pyplot as plt\n",
    "import numpy as np"
   ]
  },
  {
   "cell_type": "markdown",
   "id": "b78066bc",
   "metadata": {},
   "source": [
    "### How we load a color image into an array? "
   ]
  },
  {
   "cell_type": "markdown",
   "id": "d63e4f8a",
   "metadata": {},
   "source": [
    "Many of us are probably familiar with lots of different color image formats, including `.jpg`, `.png`, `.gif`, `.tif`, and other. Whereas a single FITS image extension will usually have one brightness value per pixel, these color images store three brightness values per pixel, one each for red, green, blue. \n",
    "\n",
    "We can read these image files into arrays providing the `plt.imread` function with the file path to an image. Please copy the file `/home/zkbt/astr3510/rainbow.jpg` into the same directory as your notebook, and then run this code. This function uses the Python Imaging Library (`PIL.Image.open`), so if you need more control over loading images you should work with that directly."
   ]
  },
  {
   "cell_type": "code",
   "execution_count": null,
   "id": "5ee4ba0c",
   "metadata": {},
   "outputs": [],
   "source": [
    "rainbow = plt.imread('rainbow.jpg')"
   ]
  },
  {
   "cell_type": "markdown",
   "id": "6253f091",
   "metadata": {},
   "source": [
    "The variable `rgb` is now a three-dimensional array, with the first dimension corresponding to pixel row, the second to pixel column, and the third to wavelength band. This image has 1434 rows, 1764 columns, and 3 color bands (red, green, blue). "
   ]
  },
  {
   "cell_type": "code",
   "execution_count": null,
   "id": "ef559461",
   "metadata": {},
   "outputs": [],
   "source": [
    "rainbow.shape"
   ]
  },
  {
   "cell_type": "markdown",
   "id": "57fcef42",
   "metadata": {},
   "source": [
    "If our trusty friend `plt.imshow` receives a three-dimensional array with 3 elements in the third dimension, it will try to interpret the array as a color image and display it as such."
   ]
  },
  {
   "cell_type": "code",
   "execution_count": null,
   "id": "7b17cc1d",
   "metadata": {},
   "outputs": [],
   "source": [
    "plt.figure(dpi=300)\n",
    "plt.imshow(rainbow);"
   ]
  },
  {
   "cell_type": "markdown",
   "id": "e659631b",
   "metadata": {},
   "source": [
    "This magic trick of treating a 3D array as a color image will work as long as the values in the image are integer numbers between 0 and 255 ($= 2^8 - 1$ for 8-bit color), or floating point numbers between 0.0 and 1.0. Let's look at the RGB values for the first row and first column of our image:"
   ]
  },
  {
   "cell_type": "code",
   "execution_count": null,
   "id": "67879e32",
   "metadata": {},
   "outputs": [],
   "source": [
    "rainbow[0,0,:]"
   ]
  },
  {
   "cell_type": "markdown",
   "id": "4ed7d9ea",
   "metadata": {},
   "source": [
    "The data type of the numbers is \"unsigned 8-bit integer\", meaning whole numbers between 0 and 255. The RGB values for the first row and first pixel are R=184, G=183, B=118, where 0 means no light of that color and 255 means the brightest possible light for that color. If the three values were all the same, the color would be some shade of gray; since there's a little less blue, the color should be shifted a little toward orange-ish. To my eye, the upper left region looks like a warm gray!"
   ]
  },
  {
   "cell_type": "markdown",
   "id": "2aaac278",
   "metadata": {},
   "source": [
    "## `Discuss!`\n",
    "Talk to someone:\n",
    "- Pick at least one pixel in the color image, guess what its RGB pixel brighness values will be, then print out the values to compare. If you can't see some colors, ask your partner(s) to point out what's what."
   ]
  },
  {
   "cell_type": "markdown",
   "id": "279510cd",
   "metadata": {},
   "source": [
    "### What do the individual color channel arrays look like? \n",
    "Let's dig into the details of this image a little more. Since we might want to similar actions for a few different images, let's write a function that we can resuse. (The code of this function is available in `/home/zkbt/astr3510/rgb.py`, if you just want to copy and paste it from there.)"
   ]
  },
  {
   "cell_type": "code",
   "execution_count": null,
   "id": "22d2edd3",
   "metadata": {},
   "outputs": [],
   "source": [
    "def show_rgb_separately(some_rgb_image, cmap='gray'):\n",
    "    '''\n",
    "    This function provides a handy way to look at the \n",
    "    individual RGB channels of a color image.\n",
    "    \n",
    "    Parameters\n",
    "    ----------\n",
    "    some_rgb_image : the color image array to display\n",
    "        An array with dimensions (rows, columns, 3), with the\n",
    "        last dimension corresponding to the three RGB colors.\n",
    "    \n",
    "    cmap : str\n",
    "        Which matplotlib colormap should we use for displaying brightness?\n",
    "        (default = 'gray', with black at bottom and white at top)\n",
    "    '''\n",
    "    \n",
    "    # give names to the colors to use as titles\n",
    "    colors = ['red', 'green', 'blue']\n",
    "    \n",
    "    # check if the units are integer (0-255) or not (0.0-1.0)\n",
    "    if some_rgb_image.dtype == np.uint8:\n",
    "        vmax = 255\n",
    "    else:\n",
    "        vmax = 1.0\n",
    "    \n",
    "    # set up big figure to fill with plots\n",
    "    fi = plt.figure(figsize=(12,12), dpi=300)\n",
    "\n",
    "    # set up a grid of panels into which we can plot\n",
    "    grid = plt.GridSpec(2, 3, height_ratios=[1, 3])\n",
    "    \n",
    "    # loop through the three color channels\n",
    "    for i in range(3):\n",
    "        \n",
    "        # point toward the panel in row 0, column i\n",
    "        plt.subplot(grid[0,i])\n",
    "\n",
    "        # show the image for this color channel in this panel\n",
    "        plt.imshow(some_rgb_image[:,:,i], cmap=cmap, vmin=0, vmax=vmax)\n",
    "\n",
    "        # add a title to the panel\n",
    "        plt.title(colors[i])\n",
    "    \n",
    "    # point toward row 1, all columns\n",
    "    plt.subplot(grid[1,:])\n",
    "    \n",
    "    # show the color image\n",
    "    plt.imshow(some_rgb_image)"
   ]
  },
  {
   "cell_type": "markdown",
   "id": "fb025b7f",
   "metadata": {},
   "source": [
    "Now let's try out our function on our color image. "
   ]
  },
  {
   "cell_type": "code",
   "execution_count": null,
   "id": "32d75730",
   "metadata": {
    "scrolled": false
   },
   "outputs": [],
   "source": [
    "show_rgb_separately(rainbow)"
   ]
  },
  {
   "cell_type": "markdown",
   "id": "95b105ef",
   "metadata": {},
   "source": [
    "## `Discuss!`\n",
    "Talk to someone:\n",
    "- What is the relationship between the monochrome RGB images and the color image? Pick a region and explain why it has the color it does. "
   ]
  },
  {
   "cell_type": "markdown",
   "id": "c02e009e",
   "metadata": {},
   "source": [
    "### How do we construct color images from individual 2D arrays? \n",
    "\n",
    "With telescopes, we're often gathering one 2D brightness image at a time. With filters we can select specific wavelengths to make it to the detector, but the data are being recorded as a monochromatic brightness per pixel. To simulate these kinds of images, let's start by making a few imaginary 2D arrays."
   ]
  },
  {
   "cell_type": "code",
   "execution_count": null,
   "id": "1103215c",
   "metadata": {},
   "outputs": [],
   "source": [
    "# set up the basic shape of the image \n",
    "rows = 10\n",
    "columns = 12\n",
    "shape = (rows, columns)\n",
    "\n",
    "# define some x and y coordinates along the image\n",
    "x = np.linspace(0, 255, columns)\n",
    "y = np.linspace(0, 255, rows)\n",
    "\n",
    "# define 2D arrays that increase along columns and rows\n",
    "a, b = np.meshgrid(x, y)\n",
    "\n",
    "# define another 2D full of random numbers\n",
    "c = np.random.uniform(50, 200, shape)"
   ]
  },
  {
   "cell_type": "markdown",
   "id": "b3524ad4",
   "metadata": {},
   "source": [
    "Next, let's stitch these three 2D arrays into one 3D array that can be interpreted as a color image. There are multiple way to do this, but here we create an empty array with the correct 3D shape, and then populate it color by color."
   ]
  },
  {
   "cell_type": "code",
   "execution_count": null,
   "id": "9c352e1e",
   "metadata": {},
   "outputs": [],
   "source": [
    "# define the appropriate 3D array shape\n",
    "rgb_shape = (rows, columns, 3)\n",
    "\n",
    "# create a new empty array with that shape\n",
    "rgb = np.zeros(rgb_shape)\n",
    "\n",
    "# populate the color channels one by one\n",
    "rgb[:,:,0] = a\n",
    "rgb[:,:,1] = b\n",
    "rgb[:,:,2] = c"
   ]
  },
  {
   "cell_type": "markdown",
   "id": "70ac8dc3",
   "metadata": {},
   "source": [
    "Finally, let's display our new image as a color image. We'll use our `show_rgb_separately` function above so we can see both the individual color frames and the synthesized color image."
   ]
  },
  {
   "cell_type": "code",
   "execution_count": null,
   "id": "1af4977a",
   "metadata": {},
   "outputs": [],
   "source": [
    "show_rgb_separately(rgb)"
   ]
  },
  {
   "cell_type": "markdown",
   "id": "6e489e43",
   "metadata": {},
   "source": [
    "Blerg! That color image isn't particularly interesting, and python raises a warning that the input data are being clipped to a range of either 0.0-1.0 for floats (= decimal numbers) or 0-255 for integers (= whole numbers). Indeed, if we print the pixel values below, we see they have decimal numbers that are much higher than 1.0; that means only the very few pixels that have values between 0.0-1.0 are showing up as interesting colors, and the rest are being clipped to the maximum brightness in all channels (= white). "
   ]
  },
  {
   "cell_type": "code",
   "execution_count": null,
   "id": "8cad6110",
   "metadata": {},
   "outputs": [],
   "source": [
    "rgb"
   ]
  },
  {
   "cell_type": "markdown",
   "id": "28398af5",
   "metadata": {},
   "source": [
    "One solution to this problem is to normalize the values so that they all fall between 0.0 and 1.0. Here we're doing a linear normalization set by the maximum value in the image, but any transformation that produces values between 0.0 and 1.0 would work."
   ]
  },
  {
   "cell_type": "code",
   "execution_count": null,
   "id": "41214d93",
   "metadata": {},
   "outputs": [],
   "source": [
    "normalized_rgb = rgb/np.max(rgb)\n",
    "show_rgb_separately(normalized_rgb)"
   ]
  },
  {
   "cell_type": "markdown",
   "id": "783e8ea7",
   "metadata": {},
   "source": [
    "Another solution would be to convert the numbers into integers between 0 and 255. This highlights that `.imread` + `.imshow` allow only 256 levels of brightness to be associated with each color channel. "
   ]
  },
  {
   "cell_type": "code",
   "execution_count": null,
   "id": "b8d3d303",
   "metadata": {},
   "outputs": [],
   "source": [
    "rgb_as_integers = rgb.astype(np.uint8)\n",
    "show_rgb_separately(rgb_as_integers)"
   ]
  },
  {
   "cell_type": "markdown",
   "id": "98e0c643",
   "metadata": {},
   "source": [
    "## `Discuss!`\n",
    "Talk to someone:\n",
    "- How would we produce an image where all the color brightnesses are fainter by a factor of 2? Try it out!\n",
    "- How do 3D arrays work? How is pointing to values in them similar to or different from 2D arrays? "
   ]
  },
  {
   "cell_type": "markdown",
   "id": "a5c1e2f4",
   "metadata": {},
   "source": [
    "### How do we save color images to files? \n",
    "\n",
    "If we want to save the outputs of our `imshow` figures, including labels, titles, multiple panels, or other plot elements, we can use the `savefig` command to save the entire contents of the figure to a file."
   ]
  },
  {
   "cell_type": "code",
   "execution_count": null,
   "id": "2287bda6",
   "metadata": {},
   "outputs": [],
   "source": [
    "show_rgb_separately(normalized_rgb)\n",
    "plt.savefig('my-snazzy-image.pdf')"
   ]
  },
  {
   "cell_type": "markdown",
   "id": "76e98946",
   "metadata": {},
   "source": [
    "If all we want is the image, we can use the `.imsave` function, which will do similar things as `.imshow` but save directly to a file."
   ]
  },
  {
   "cell_type": "code",
   "execution_count": null,
   "id": "e53ba460",
   "metadata": {},
   "outputs": [],
   "source": [
    "plt.imsave('my-snazzy-image.jpg', normalized_rgb)"
   ]
  },
  {
   "cell_type": "code",
   "execution_count": null,
   "id": "5f93fdf7",
   "metadata": {},
   "outputs": [],
   "source": [
    "plt.imsave('my-snazzy-image.png', normalized_rgb)"
   ]
  },
  {
   "cell_type": "markdown",
   "id": "255d69ab",
   "metadata": {},
   "source": [
    "## How can you apply this yourself? \n",
    "\n",
    "With the skills we've explored above, please discuss with your friends and try to do the following:\n",
    "\n",
    "1. Try to load a different color image into an array. \n",
    "2. Make and show a grayscale image where each pixel is the average of its three RGB values.\n",
    "3. Mess with the colors of an image by swapping which array corresponds to which color.\n",
    "4. Draw a colorful horizontal line across an image by changing some pixel values in that row.\n",
    "\n",
    "Colors are confusing *and* arrays are confusing, so please please for help when you need it!"
   ]
  }
 ],
 "metadata": {
  "kernelspec": {
   "display_name": "Python 3 (ipykernel)",
   "language": "python",
   "name": "python3"
  },
  "language_info": {
   "codemirror_mode": {
    "name": "ipython",
    "version": 3
   },
   "file_extension": ".py",
   "mimetype": "text/x-python",
   "name": "python",
   "nbconvert_exporter": "python",
   "pygments_lexer": "ipython3",
   "version": "3.10.8"
  }
 },
 "nbformat": 4,
 "nbformat_minor": 5
}
