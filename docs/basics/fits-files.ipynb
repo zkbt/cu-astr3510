{
 "cells": [
  {
   "cell_type": "markdown",
   "id": "94dd33d9",
   "metadata": {},
   "source": [
    "# 🌃🌅🌌 Loading FITS Images\n",
    "This page provides a basic introduction to using `python` to load FITS (Flexible Image Transport System) data, display images, access pixel data, and find metadata. "
   ]
  },
  {
   "cell_type": "markdown",
   "id": "daf13dd3",
   "metadata": {},
   "source": [
    "### What is an array? \n",
    "In a few steps, we're going to load a FITS image into python as an array of numbers. But first, we should be familiar with what an array looks like. Let's start by importing some common tools."
   ]
  },
  {
   "cell_type": "code",
   "execution_count": null,
   "id": "3cbe0333",
   "metadata": {},
   "outputs": [],
   "source": [
    "import matplotlib.pyplot as plt\n",
    "import numpy as np"
   ]
  },
  {
   "cell_type": "markdown",
   "id": "5b29b712",
   "metadata": {},
   "source": [
    "Now, let's create a small array of numbers and store it as a variable named `some_array`. This will generate a 3x5 array with random values ranging from 0 to 100."
   ]
  },
  {
   "cell_type": "code",
   "execution_count": null,
   "id": "597331a5",
   "metadata": {},
   "outputs": [],
   "source": [
    "some_array = np.random.randint(0, 100, [3,5])"
   ]
  },
  {
   "cell_type": "markdown",
   "id": "87e2bd39",
   "metadata": {},
   "source": [
    "Let's print the numbers in that array."
   ]
  },
  {
   "cell_type": "code",
   "execution_count": null,
   "id": "ecc7b290",
   "metadata": {},
   "outputs": [],
   "source": [
    "print(some_array)"
   ]
  },
  {
   "cell_type": "markdown",
   "id": "6e51f868",
   "metadata": {},
   "source": [
    "We can think of this array as a tiny image, so let's show it as an image. Check visually, do the bright pixels in the image correspond to high values in the array? "
   ]
  },
  {
   "cell_type": "code",
   "execution_count": null,
   "id": "af7cca8b",
   "metadata": {},
   "outputs": [],
   "source": [
    "plt.imshow(some_array);"
   ]
  },
  {
   "cell_type": "markdown",
   "id": "b1db790a",
   "metadata": {},
   "source": [
    "We can see the shape of the array by looking at its `.shape` attribute."
   ]
  },
  {
   "cell_type": "code",
   "execution_count": null,
   "id": "7ee34547",
   "metadata": {},
   "outputs": [],
   "source": [
    "some_array.shape"
   ]
  },
  {
   "cell_type": "markdown",
   "id": "9cd836c1",
   "metadata": {},
   "source": [
    "We can access a subset of a 2D array by indexing it with `[row, column]` where `row` and `column` refer to one or more rows or columns of the array. To extract a single row and a single column (= one pixel), just enter one integer for each. In Python, row and column indices start from `0`, so the 1st row and 1st column would be:"
   ]
  },
  {
   "cell_type": "code",
   "execution_count": null,
   "id": "885b4ada",
   "metadata": {},
   "outputs": [],
   "source": [
    "some_array[0,0]"
   ]
  },
  {
   "cell_type": "markdown",
   "id": "7c1f9f39",
   "metadata": {},
   "source": [
    "The 3rd row and 2th column would be:"
   ]
  },
  {
   "cell_type": "code",
   "execution_count": null,
   "id": "3fd2b9fa",
   "metadata": {},
   "outputs": [],
   "source": [
    "some_array[2,1]"
   ]
  },
  {
   "cell_type": "markdown",
   "id": "cb2dbb86",
   "metadata": {},
   "source": [
    "The special character `:` means \"extract all possible values.\" We can use this to extract 1D arrays along a particular row or column. The entirety of the 1st row (row `0`, all columns) would be:"
   ]
  },
  {
   "cell_type": "code",
   "execution_count": null,
   "id": "37e47e5f",
   "metadata": {},
   "outputs": [],
   "source": [
    "some_array[0,:]"
   ]
  },
  {
   "cell_type": "markdown",
   "id": "fb430c1b",
   "metadata": {},
   "source": [
    "The entirety of the 4th column (all rows, column `3`) would be:"
   ]
  },
  {
   "cell_type": "code",
   "execution_count": null,
   "id": "78977f11",
   "metadata": {},
   "outputs": [],
   "source": [
    "some_array[:,3]"
   ]
  },
  {
   "cell_type": "markdown",
   "id": "6483f57d",
   "metadata": {},
   "source": [
    "We can plot one of these 1D arrays to see the pixel values a bit more quantitatively."
   ]
  },
  {
   "cell_type": "code",
   "execution_count": null,
   "id": "6a207891",
   "metadata": {},
   "outputs": [],
   "source": [
    "# extract the row we want\n",
    "the_row_i_want_to_plot = some_array[0,:]\n",
    "\n",
    "# plot that data and add labels\n",
    "plt.plot(the_row_i_want_to_plot, marker='o')\n",
    "plt.xlabel('column (pixels)')\n",
    "plt.ylabel('pixel value');"
   ]
  },
  {
   "cell_type": "markdown",
   "id": "282bdfd7",
   "metadata": {},
   "source": [
    "We can calculate summary statistics on our array, such as the minimum and maximum value, with a variety of `np.` functions."
   ]
  },
  {
   "cell_type": "code",
   "execution_count": null,
   "id": "5fa4ee4b",
   "metadata": {},
   "outputs": [],
   "source": [
    "np.min(some_array)"
   ]
  },
  {
   "cell_type": "code",
   "execution_count": null,
   "id": "981837d2",
   "metadata": {},
   "outputs": [],
   "source": [
    "np.max(some_array)"
   ]
  },
  {
   "cell_type": "markdown",
   "id": "129ae42b",
   "metadata": {},
   "source": [
    "And finally, we can do math with arrays, including either individual numbers or other arrays."
   ]
  },
  {
   "cell_type": "code",
   "execution_count": null,
   "id": "42a43340",
   "metadata": {},
   "outputs": [],
   "source": [
    "another_array = some_array + 10000\n",
    "print(another_array)"
   ]
  },
  {
   "cell_type": "markdown",
   "id": "97acfebf",
   "metadata": {},
   "source": [
    "### How do we load a FITS image into an array?\n",
    "\n",
    "FITS files are a (mostly) astronomy-specific file format, so the `astropy` package provides tools for loading these files into Python. Let's import the input/output tool for FITS files."
   ]
  },
  {
   "cell_type": "code",
   "execution_count": null,
   "id": "d53dd07a",
   "metadata": {},
   "outputs": [],
   "source": [
    "from astropy.io import fits"
   ]
  },
  {
   "cell_type": "markdown",
   "id": "36ca508e",
   "metadata": {},
   "source": [
    "And then use that tool to open our image into a Python variable. Here, you'll want to use the filename of the file you want to open (which must be in the same directory as your notebook)."
   ]
  },
  {
   "cell_type": "code",
   "execution_count": null,
   "id": "f4daa887",
   "metadata": {},
   "outputs": [],
   "source": [
    "our_file = fits.open('some-test-image.fit')"
   ]
  },
  {
   "cell_type": "markdown",
   "id": "b8a8a59b",
   "metadata": {},
   "source": [
    "Once that file is loaded into the variable `our_file`, we can preview its contents with the `.info()` method."
   ]
  },
  {
   "cell_type": "code",
   "execution_count": null,
   "id": "56958c21",
   "metadata": {},
   "outputs": [],
   "source": [
    "our_file.info()"
   ]
  },
  {
   "cell_type": "markdown",
   "id": "9d3cb245",
   "metadata": {},
   "source": [
    "Some FITS files can have multiple \"extensions\" which can each hold separate data. The files from the SBO telescopes have only one extension. Let's extract the image data from that 1st extension, and store it in the variable `our_image`."
   ]
  },
  {
   "cell_type": "code",
   "execution_count": null,
   "id": "2c17c4e9",
   "metadata": {},
   "outputs": [],
   "source": [
    "our_image = our_file[0].data"
   ]
  },
  {
   "cell_type": "markdown",
   "id": "cd7c3281",
   "metadata": {},
   "source": [
    "That's it! The variable `our_image` now contains our image data as an array. It's a bit bigger than the tiny array we made above, but exactly the same principles apply. Let's print out the values (thankfully, notice Python abbreviates and only shows us some of the pixels), and display it as an image."
   ]
  },
  {
   "cell_type": "code",
   "execution_count": null,
   "id": "ed449b43",
   "metadata": {},
   "outputs": [],
   "source": [
    "print(our_image)"
   ]
  },
  {
   "cell_type": "code",
   "execution_count": null,
   "id": "3c1d8806",
   "metadata": {},
   "outputs": [],
   "source": [
    "plt.imshow(our_image);"
   ]
  },
  {
   "cell_type": "markdown",
   "id": "a39d7767",
   "metadata": {},
   "source": [
    "Dealing with real data, it may be useful to change the colormap used to translate from numbers to brightness/color for display. Inside `plt.imshow` we can change which set of colors is used via `cmap=`, and change the minimum and maximum pixel values via `vmin=` and `vmax=`. We can show the translation between color and number with `plt.colorbar()`."
   ]
  },
  {
   "cell_type": "code",
   "execution_count": null,
   "id": "21069fc5",
   "metadata": {},
   "outputs": [],
   "source": [
    "plt.imshow(our_image, cmap='gray', vmin=0, vmax=10000)\n",
    "plt.colorbar();"
   ]
  },
  {
   "cell_type": "markdown",
   "id": "2e7aa251",
   "metadata": {},
   "source": [
    "With your image array, and using what we've learned above, write and run code cells to do each of the following tasks:\n",
    "\n",
    "1. Print the shape (number of rows, number of columns) of your image.\n",
    "1. Print the pixel value for the pixel located at the 100th row and the 3rd column.\n",
    "1. Print the pixel values for the entire 100th row (it's OK if Python abbreviates this).\n",
    "1. Make a plot of the pixel values for the entire 100th row.\n",
    "1. Find a bright object in your image, and make a plot of the pixel values along a column that intersects your object.\n",
    "1. Print the minimum pixel value in your image.\n",
    "1. Create a new array consisting of your original image minus the minimum value in your original image, and confirm with `print` that the numbers are different."
   ]
  },
  {
   "cell_type": "markdown",
   "id": "f0ccf78b",
   "metadata": {},
   "source": [
    "### How do we view FITS headers? \n",
    "FITS headers contain useful metadata that might be necessary for our analyses. We can access the header from our loaded file as follows."
   ]
  },
  {
   "cell_type": "code",
   "execution_count": null,
   "id": "4fe3795f",
   "metadata": {},
   "outputs": [],
   "source": [
    "our_header = our_file[0].header"
   ]
  },
  {
   "cell_type": "markdown",
   "id": "acab4283",
   "metadata": {},
   "source": [
    "Then we can print the complete header simply by putting it in a code cell and running it."
   ]
  },
  {
   "cell_type": "code",
   "execution_count": null,
   "id": "bf42d65f",
   "metadata": {},
   "outputs": [],
   "source": [
    "our_header"
   ]
  },
  {
   "cell_type": "markdown",
   "id": "c0ec6795",
   "metadata": {},
   "source": [
    "We can access specific entries in the header by indexing it we a header keyword."
   ]
  },
  {
   "cell_type": "code",
   "execution_count": null,
   "id": "32123957",
   "metadata": {},
   "outputs": [],
   "source": [
    "our_header['OBJECT']"
   ]
  },
  {
   "cell_type": "markdown",
   "id": "a4005e78",
   "metadata": {},
   "source": [
    "### Good luck!\n",
    "\n",
    "You'll earn course credit for completing this worksheet, but we won't grade your individual responses. It is your responsibility to make sure you learn the skills to complete the tasks above. If you have questions (you probably will!), please ask in-person or on slack!"
   ]
  }
 ],
 "metadata": {
  "kernelspec": {
   "display_name": "Python 3 (ipykernel)",
   "language": "python",
   "name": "python3"
  },
  "language_info": {
   "codemirror_mode": {
    "name": "ipython",
    "version": 3
   },
   "file_extension": ".py",
   "mimetype": "text/x-python",
   "name": "python",
   "nbconvert_exporter": "python",
   "pygments_lexer": "ipython3",
   "version": "3.10.8"
  }
 },
 "nbformat": 4,
 "nbformat_minor": 5
}
