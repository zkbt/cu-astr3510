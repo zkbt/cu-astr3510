{
 "cells": [
  {
   "cell_type": "markdown",
   "id": "0075ae33",
   "metadata": {},
   "source": [
    "# 💡✉️🌊 Photon Noise \n",
    "\n",
    "Light travels as photons. When we talk about the luminosity of a star or the brightness of the Sun in the sky, we're talking about so many photons that it makes sense to treat light as a continuous stream. However, when light spreads out of interstellar distances or when we're imaging something that's intrinsically faint, we need to start paying attention to individual photons. When we're measuring light, even if we neglect all other sources of noise, the randomness of the times with which these photons arrive at our telescope create an inescapable source of uncertainty called \"photon noise\" or \"Poisson noise.\"\n",
    "\n",
    "This page presents a pedagogical simulation of a cartoon telescope, and uses it to explore the concept of photon noise."
   ]
  },
  {
   "cell_type": "code",
   "execution_count": null,
   "id": "a981f7a4",
   "metadata": {},
   "outputs": [],
   "source": [
    "from astr3510 import catch_photons_in_bucket\n",
    "import astropy.units as u\n",
    "import numpy as np\n",
    "import matplotlib.pyplot as plt"
   ]
  },
  {
   "cell_type": "markdown",
   "id": "0e87b8d3",
   "metadata": {},
   "source": [
    "## Telescopes as Light Buckets"
   ]
  },
  {
   "cell_type": "markdown",
   "id": "7831e57f",
   "metadata": {},
   "source": [
    "Let's imagine we focus our telescope on a star that has a particular brightness, meaning that there is a particular rate at which photons from this star rain down on our telescope, in units like $\\mathrm{photons/s/m^2}$. We can imagine our telescope as a light bucket, that we hold out in this rain of photons. The larger our bucket (telescope aperture) or the longer we let it collect rain (exposure time), the more raindrops will fall into the bucket (photons). \n",
    "\n",
    "If we know the collecting area of the telescope, the exposure time, and the brightness of the source we're observing, we can calculate an exact average number of photons we should expect to see in an exposure. In reality, we won't alway detect exactly that expected number, and not just because this expectation value might not be a non-integer number of photons. The discrete nature of light means that the actual photons we detect in a given observation will be drawn from a Poisson probability distribution centered at the expected number of photons. \n",
    "\n",
    "Let's experiment a few times with some default settings:"
   ]
  },
  {
   "cell_type": "code",
   "execution_count": null,
   "id": "69b53c28",
   "metadata": {},
   "outputs": [],
   "source": [
    "N = catch_photons_in_bucket()"
   ]
  },
  {
   "cell_type": "code",
   "execution_count": null,
   "id": "4ad1e951",
   "metadata": {},
   "outputs": [],
   "source": [
    "N = catch_photons_in_bucket()"
   ]
  },
  {
   "cell_type": "code",
   "execution_count": null,
   "id": "12f8f93f",
   "metadata": {},
   "outputs": [],
   "source": [
    "N = catch_photons_in_bucket()"
   ]
  },
  {
   "cell_type": "markdown",
   "id": "577ada53",
   "metadata": {},
   "source": [
    "The left panel visualizes positions where individual photons might have entered the telescope; the upper right shows the numerical details of how many photons we expect and why; and the lower right shows how the actual number of photons detected compares to the Poisson probability distribution for the given expectation value.\n",
    "\n",
    "In three different exposures, even with the same aperture, exposure time, and object brightness, we detected a different number of photons due the randomness of the times at which individual photons arrive at the telescope. "
   ]
  },
  {
   "cell_type": "markdown",
   "id": "e08359fb",
   "metadata": {},
   "source": [
    "## $\\sqrt{N}$ and $1/\\sqrt{N}$\n",
    "\n",
    "Let's play with the input parameters of our observation a little by setting some keywords in the `catch_photons_in_bucket` function. We'll change the incoming photon flux (`rate`), the telescope mirror diameter (`diameter`), and the exposure time (`time`). We'll tweak the values to get us to an expectation value of 100 photons. "
   ]
  },
  {
   "cell_type": "code",
   "execution_count": null,
   "id": "343a0f68",
   "metadata": {},
   "outputs": [],
   "source": [
    "N = catch_photons_in_bucket(rate=1*u.photon/u.s/u.m**2, \n",
    "                            diameter=2/np.sqrt(np.pi)*u.m,\n",
    "                            time=100*u.s)"
   ]
  },
  {
   "cell_type": "markdown",
   "id": "ae6adc66",
   "metadata": {},
   "source": [
    "Now, let's compare what we see how things changes for different expectation values for the number of photons. We'll do this by changing the exposure time, collecting photons for a shorter or longer duration."
   ]
  },
  {
   "cell_type": "code",
   "execution_count": null,
   "id": "b94dc0ec",
   "metadata": {},
   "outputs": [],
   "source": [
    "for t in [1, 10, 100, 1000, 10000]*u.s:\n",
    "    N = catch_photons_in_bucket(rate=10*u.photon/u.s/u.m**2, \n",
    "                                diameter=2/np.sqrt(np.pi)*u.m,\n",
    "                                time=t)"
   ]
  },
  {
   "cell_type": "markdown",
   "id": "5dc6dd60",
   "metadata": {},
   "source": [
    "If we expect $N$ photons, the standard deviation of the Poisson distribution will be about $\\sqrt{N}$. Looking closely at the numbers, we'll see that the absolute values of the numbers tend to be farther away from the expected values for larger $N$. However, it's important to consider what these means for the fractional uncertainty:\n",
    "- At small values, $N$ might be $10\\pm\\sqrt{10}$, which means there's a very large fractional uncertainty on how many photons we'll actually detect, as $\\sqrt{10}/10 = 31.6\\%$. \n",
    "- At large values, with $N$ being like $10^4 \\pm \\sqrt{10^4}$, the fractional uncertainty will be much lower, as $\\sqrt{10^4}/10^4 = 1\\%$\n",
    "The uncertainty on the number of photons $N$ will increase as $\\sqrt{N}$, but the fractional uncertainty on the number of photons we're detecting (which is what we'll ultimately translate into a statement of \"how bright is this object\") will go down as $\\sqrt{N}/N = 1/\\sqrt{N}$. \n",
    "\n",
    "We can test this behavior by calling our photon-catching functions for many exposure times and seeing how the numbers change with exposure time. We'll do this with visualizations turned off, to avoid clutter."
   ]
  },
  {
   "cell_type": "code",
   "execution_count": null,
   "id": "feedbed8",
   "metadata": {},
   "outputs": [],
   "source": [
    "# try a bunch of different exposure times \n",
    "expectations = []\n",
    "actuals = []\n",
    "times = np.logspace(0, 2, 200)\n",
    "for t in times:\n",
    "    # store the expected number\n",
    "    brightness = 1*u.photon/u.s/u.m**2\n",
    "    D = 2/np.sqrt(np.pi)*u.m\n",
    "    expected = np.pi*(D/2)**2*brightness*t*u.s\n",
    "    expectations.append(expected)\n",
    "    \n",
    "    # store to observe number\n",
    "    N = catch_photons_in_bucket(rate=brightness, \n",
    "                                diameter=D,\n",
    "                                time=t*u.s, \n",
    "                                visualize=False)\n",
    "    actuals.append(N)\n",
    "    \n",
    "N_expected = u.Quantity(expectations).value\n",
    "N_actual = u.Quantity(actuals).value"
   ]
  },
  {
   "cell_type": "code",
   "execution_count": null,
   "id": "6c37f449",
   "metadata": {},
   "outputs": [],
   "source": [
    "# make a grid to store the results plot\n",
    "fi, ax = plt.subplots(2, 2, figsize=(6,4), dpi=300, sharex='col', constrained_layout=True)\n",
    "\n",
    "# plot the actual numbers of photons linearly\n",
    "plt.sca(ax[0, 0])\n",
    "plt.scatter(times, N_actual, s=10)\n",
    "plt.fill_between(times,\n",
    "                 N_expected-np.sqrt(N_expected), \n",
    "                 N_expected+np.sqrt(N_expected), \n",
    "                 zorder=-1)\n",
    "plt.ylabel('$N_{actual}$')\n",
    "\n",
    "# plot the actual numbers of photons logarithmically\n",
    "plt.sca(ax[0, 1])\n",
    "plt.scatter(times, N_actual, s=10)\n",
    "plt.fill_between(times,\n",
    "                 N_expected-np.sqrt(N_expected), \n",
    "                 N_expected+np.sqrt(N_expected), \n",
    "                 zorder=-1)\n",
    "plt.yscale('log')\n",
    "plt.xscale('log')\n",
    "plt.ylabel('$N_{actual}$')\n",
    "\n",
    "# plot the actual divided by the expected, linearly\n",
    "plt.sca(ax[1,0])\n",
    "plt.scatter(times, N_actual/N_expected, s=10)\n",
    "plt.fill_between(times, \n",
    "                 1-1/np.sqrt(N_expected), \n",
    "                 1+1/np.sqrt(N_expected), \n",
    "                 zorder=-1)\n",
    "plt.ylabel('$N_{actual}/N_{expected}$')\n",
    "plt.ylim(0, 2)\n",
    "\n",
    "# plot the actual divided by the expected, logarithmically\n",
    "plt.sca(ax[1,1])\n",
    "plt.scatter(times, N_actual/N_expected, s=10)\n",
    "plt.fill_between(times, \n",
    "                 1-1/np.sqrt(N_expected), \n",
    "                 1+1/np.sqrt(N_expected), \n",
    "                 zorder=-1)\n",
    "plt.ylabel('$N_{actual}/N_{expected}$')\n",
    "plt.ylim(0, 2)\n",
    "plt.xscale('log')\n",
    "fi.supxlabel('Time (s)');"
   ]
  },
  {
   "cell_type": "markdown",
   "id": "9ee225c5",
   "metadata": {},
   "source": [
    "With our little numerical experiments, we can see that the Poisson distribution gets wider as $\\sqrt{N}$ for increasing expectation value $N$, but that the fraction difference from the true underlying expected value goes down as $1\\sqrt{N}$.\n",
    "\n",
    "## Learn more! 🧑‍🏫🌊✉️\n",
    "Play around with the `catch_photons_in_bucket` function to develop your understanding of how photon-counting statistics behave in different limits. Have fun! "
   ]
  }
 ],
 "metadata": {
  "kernelspec": {
   "display_name": "Python 3 (ipykernel)",
   "language": "python",
   "name": "python3"
  },
  "language_info": {
   "codemirror_mode": {
    "name": "ipython",
    "version": 3
   },
   "file_extension": ".py",
   "mimetype": "text/x-python",
   "name": "python",
   "nbconvert_exporter": "python",
   "pygments_lexer": "ipython3",
   "version": "3.10.8"
  }
 },
 "nbformat": 4,
 "nbformat_minor": 5
}
