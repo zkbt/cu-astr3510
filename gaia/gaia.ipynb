{
 "cells": [
  {
   "cell_type": "markdown",
   "id": "df6a65bb",
   "metadata": {},
   "source": [
    "# 🌎🕯🗺 Gaia Data\n",
    "\n",
    "Often you need to know the magnitude of a star. Fortunately, the space-based [Gaia](https://gea.esac.esa.int/archive/) survey has observed the entire sky with incredible precision; basically any star you can see with a moderate ground-based telescope has already been observed by Gaia. Common reasons you might need to download stars from Gaia would be to locate where to put apertures in an image or to use a star you observed as a flux calibrator; this page demonstrates two little tools that might be helpful for those purposes!"
   ]
  },
  {
   "cell_type": "markdown",
   "id": "b0cb5d5a",
   "metadata": {},
   "source": [
    "## Downloading Gaia Data 💾\n",
    "\n",
    "To get a table of positions and photometry, we can use the `get_gaia` function. This is a wrapper to `astroquery` and the fabulous Gaia archive, designed to be quick and easy to use. "
   ]
  },
  {
   "cell_type": "code",
   "execution_count": null,
   "id": "afef1e9c",
   "metadata": {},
   "outputs": [],
   "source": [
    "from astropy.coordinates import SkyCoord\n",
    "import astropy.units as u\n",
    "from astr3510 import get_gaia"
   ]
  },
  {
   "cell_type": "markdown",
   "id": "1f752e03",
   "metadata": {},
   "source": [
    "To download some stars, specify a center and a radius, and let the function download data within that radius of that location. This will both download the star magnitudes directly measured with Gaia (`G_gaia`, `BP_gaia`, `RP_gaia`) and use color transformations to estimate the magnitudes in other common filters (`g_sloan`, `r_sloan`, `i_sloan`, `V_johnsoncousins`, `R_johnsoncousins`, `I_johnsoncousins`). With the results, you should have a decent estimate of the brightness of any star you want!"
   ]
  },
  {
   "cell_type": "code",
   "execution_count": null,
   "id": "b717a4d3",
   "metadata": {},
   "outputs": [],
   "source": [
    "random_center = SkyCoord(ra=123.45*u.deg, dec=67.89*u.deg)\n",
    "random_radius = 10*u.arcmin\n",
    "random_stars = get_gaia(random_center, radius=random_radius)"
   ]
  },
  {
   "cell_type": "code",
   "execution_count": null,
   "id": "ae323788",
   "metadata": {},
   "outputs": [],
   "source": [
    "random_stars"
   ]
  },
  {
   "cell_type": "markdown",
   "id": "1879d442",
   "metadata": {},
   "source": [
    "Columns from this table can be extracted via their names."
   ]
  },
  {
   "cell_type": "code",
   "execution_count": null,
   "id": "9b341059",
   "metadata": {},
   "outputs": [],
   "source": [
    "random_stars['ra']"
   ]
  },
  {
   "cell_type": "markdown",
   "id": "ac9efc54",
   "metadata": {},
   "source": [
    "We can also specify the center by using `SkyCoord`'s ability to look up stars by common names. "
   ]
  },
  {
   "cell_type": "code",
   "execution_count": null,
   "id": "276ed3df",
   "metadata": {},
   "outputs": [],
   "source": [
    "some_center = SkyCoord.from_name('GJ1214')\n",
    "some_stars = get_gaia(some_center)"
   ]
  },
  {
   "cell_type": "code",
   "execution_count": null,
   "id": "79212eb9",
   "metadata": {},
   "outputs": [],
   "source": [
    "some_stars"
   ]
  },
  {
   "cell_type": "markdown",
   "id": "d717f6b5",
   "metadata": {},
   "source": [
    "## Visualizing Gaia Data 🎨\n",
    "\n",
    "It'd be nice to be able to see this information in a way that's not just a giant table of data. Let's use the `plot_gaia` tool to plot one of the tables we've already downloaded. "
   ]
  },
  {
   "cell_type": "code",
   "execution_count": null,
   "id": "e613a17e",
   "metadata": {},
   "outputs": [],
   "source": [
    "from astr3510 import plot_gaia"
   ]
  },
  {
   "cell_type": "code",
   "execution_count": null,
   "id": "e33eb5df",
   "metadata": {},
   "outputs": [],
   "source": [
    "plot_gaia(some_stars)"
   ]
  },
  {
   "cell_type": "markdown",
   "id": "e8ccc97e",
   "metadata": {},
   "source": [
    "We can change options to modify the appearance of this finder chart, including changing which filter is used to set the relative sizes of the points. "
   ]
  },
  {
   "cell_type": "code",
   "execution_count": null,
   "id": "e747110b",
   "metadata": {},
   "outputs": [],
   "source": [
    "plot_gaia(some_stars, \n",
    "          filter='i_sloan',\n",
    "          faintest_magnitude_to_show=17,\n",
    "          faintest_magnitude_to_label=13,\n",
    "          size_of_zero_magnitude=200,\n",
    "          unit=u.arcsec)"
   ]
  },
  {
   "cell_type": "markdown",
   "id": "eb422fb4",
   "metadata": {},
   "source": [
    "With these tools, you can access a table of data and a quick visualization for any patch of the sky you care about!"
   ]
  },
  {
   "cell_type": "code",
   "execution_count": null,
   "id": "9c0e7e18",
   "metadata": {},
   "outputs": [],
   "source": [
    "cluster_center = SkyCoord.from_name(\"NGC 457\")\n",
    "cluster_stars = get_gaia(cluster_center)\n",
    "plot_gaia(cluster_stars, faintest_magnitude_to_label=10)"
   ]
  }
 ],
 "metadata": {
  "kernelspec": {
   "display_name": "Python 3 (ipykernel)",
   "language": "python",
   "name": "python3"
  },
  "language_info": {
   "codemirror_mode": {
    "name": "ipython",
    "version": 3
   },
   "file_extension": ".py",
   "mimetype": "text/x-python",
   "name": "python",
   "nbconvert_exporter": "python",
   "pygments_lexer": "ipython3",
   "version": "3.10.8"
  }
 },
 "nbformat": 4,
 "nbformat_minor": 5
}
